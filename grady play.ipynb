{
 "cells": [
  {
   "cell_type": "code",
   "execution_count": null,
   "metadata": {},
   "outputs": [],
   "source": [
    "import random\n",
    "import networkx as nx  # A library for manipulating graphs in python\n",
    "from ortools.linear_solver import pywraplp\n",
    "import numpy as np\n",
    "\n",
    "random.seed(123)"
   ]
  },
  {
   "cell_type": "code",
   "execution_count": null,
   "metadata": {},
   "outputs": [],
   "source": [
    "# Setting up our parameters\n",
    "\n",
    "N = 50  # number of courses\n",
    "p = .2  # probability of connection in the initial random graph\n",
    "t = 8  # number of terms"
   ]
  },
  {
   "cell_type": "code",
   "execution_count": null,
   "metadata": {},
   "outputs": [],
   "source": [
    "# initial random graph generation\n",
    "g = nx.fast_gnp_random_graph(n=N, p=p).to_directed()\n",
    "nx.set_node_attributes(g, {i: {'hours': h} for i, h in enumerate(random.choices([1, 2, 3, 4, 5], weights=[3, 1, 6, 5, 2], k=50))})"
   ]
  },
  {
   "cell_type": "code",
   "execution_count": null,
   "metadata": {},
   "outputs": [],
   "source": [
    "# Turning the graph into a DAG by removing cycle edges one at a time\n",
    "try:\n",
    "    cycle = next(nx.simple_cycles(g))\n",
    "    while True:\n",
    "        i = random.choice(range(len(cycle)))\n",
    "        g.remove_edge(cycle[i], cycle[(i+1)%len(cycle)])\n",
    "        cycle = next(nx.simple_cycles(g))\n",
    "except StopIteration:\n",
    "    pass  # no more cycles to remove!"
   ]
  },
  {
   "cell_type": "code",
   "execution_count": null,
   "metadata": {},
   "outputs": [],
   "source": [
    "# the optimization model\n",
    "solver = pywraplp.Solver.CreateSolver('SAT')\n",
    "\n",
    "# a num_courses-by-num_terms array of binary decision variables\n",
    "a = []\n",
    "for i in range(N):\n",
    "    b = []\n",
    "    for j in range(t):\n",
    "        b.append(solver.IntVar(lb=0, ub=1, name=f'Course {i}, Term {j}'))\n",
    "\n",
    "    a.append(b)\n",
    "\n",
    "course_terms = np.array(a)\n",
    "\n",
    "# add constraint: take each course only once\n",
    "for i in range(N):\n",
    "    solver.Add(sum(course_terms[i, :]) == 1)\n",
    "\n",
    "# add constraint: take prereqs first (or at the same time)\n",
    "for n1, n2 in g.edges:\n",
    "    solver.Add(sum(course_terms[n1, :]*np.array(range(t))) <= sum(course_terms[n2, :]*np.array(range(t))))\n",
    "\n",
    "# objective: minimize the max number of hours\n",
    "max_term_hours = solver.IntVar(lb=0, ub=solver.infinity(), name=f'Max hours per term')\n",
    "for i in range(t):\n",
    "    solver.Add(sum(course_terms[:, i] * np.array([g.nodes[i]['hours'] for i in range(len(g.nodes))])) <= max_term_hours)\n",
    "\n",
    "solver.Minimize(max_term_hours)\n",
    "\n",
    "status = solver.Solve()"
   ]
  },
  {
   "cell_type": "code",
   "execution_count": null,
   "metadata": {},
   "outputs": [],
   "source": [
    "np.vectorize(lambda x: x.solution_value())(course_terms)"
   ]
  },
  {
   "cell_type": "code",
   "execution_count": null,
   "metadata": {},
   "outputs": [],
   "source": []
  }
 ],
 "metadata": {
  "kernelspec": {
   "display_name": "course_connect-VHxFtQZR-py3.9",
   "language": "python",
   "name": "python3"
  },
  "language_info": {
   "codemirror_mode": {
    "name": "ipython",
    "version": 3
   },
   "file_extension": ".py",
   "mimetype": "text/x-python",
   "name": "python",
   "nbconvert_exporter": "python",
   "pygments_lexer": "ipython3",
   "version": "3.9.16"
  },
  "orig_nbformat": 4
 },
 "nbformat": 4,
 "nbformat_minor": 2
}
